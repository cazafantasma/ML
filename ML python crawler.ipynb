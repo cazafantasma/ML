{
 "cells": [
  {
   "cell_type": "code",
   "execution_count": 1,
   "metadata": {},
   "outputs": [],
   "source": [
    "import requests\n",
    "import simplejson\n",
    "import unidecode\n",
    "import operator\n",
    "import json\n",
    "import sys\n",
    "from IPython.core.display import display, HTML\n",
    "import pandas as pd\n",
    "from collections import OrderedDict\n",
    "from datetime import date\n",
    "import random\n",
    "from ml import *\n",
    "\n",
    "pd.set_option('display.max_colwidth', -1)\n",
    "display.border = 2\n",
    "df_final = pd.DataFrame.from_dict([])\n",
    "category = 'MLA1071'  # juegos y juguetes\n",
    "categories =  { \"id\": \"MLA5725\", \"name\": \"Accesorios para Vehículos\" }, { \"id\": \"MLA1403\", \"name\": \"Alimentos y Bebidas\" }, { \"id\": \"MLA1071\", \"name\": \"Animales y Mascotas\" }, { \"id\": \"MLA1367\", \"name\": \"Antigüedades\" }, { \"id\": \"MLA1368\", \"name\": \"Arte y Artesanías\" }, { \"id\": \"MLA1743\", \"name\": \"Autos, Motos y Otros\" }, { \"id\": \"MLA1384\", \"name\": \"Bebés\" }, { \"id\": \"MLA1246\", \"name\": \"Belleza y Cuidado Personal\" }, { \"id\": \"MLA1039\", \"name\": \"Cámaras y Accesorios\" }, { \"id\": \"MLA1051\", \"name\": \"Celulares y Teléfonos\" }, { \"id\": \"MLA1798\", \"name\": \"Coleccionables y Hobbies\" }, { \"id\": \"MLA1648\", \"name\": \"Computación\" }, { \"id\": \"MLA1144\", \"name\": \"Consolas y Videojuegos\" }, { \"id\": \"MLA1276\", \"name\": \"Deportes y Fitness\" }, { \"id\": \"MLA5726\", \"name\": \"Electrodomésticos y Aires Ac.\" }, { \"id\": \"MLA1000\", \"name\": \"Electrónica, Audio y Video\" }, { \"id\": \"MLA2547\", \"name\": \"Entradas para Eventos\" }, { \"id\": \"MLA407134\", \"name\": \"Herramientas y Construcción\" }, { \"id\": \"MLA1574\", \"name\": \"Hogar, Muebles y Jardín\" }, { \"id\": \"MLA1499\", \"name\": \"Industrias y Oficinas\" }, { \"id\": \"MLA1459\", \"name\": \"Inmuebles\" }, { \"id\": \"MLA1182\", \"name\": \"Instrumentos Musicales\" }, { \"id\": \"MLA3937\", \"name\": \"Joyas y Relojes\" }, { \"id\": \"MLA1132\", \"name\": \"Juegos y Juguetes\" }, { \"id\": \"MLA3025\", \"name\": \"Libros, Revistas y Comics\" }, { \"id\": \"MLA1168\", \"name\": \"Música, Películas y Series\" }, { \"id\": \"MLA1430\", \"name\": \"Ropa y Accesorios\" }, { \"id\": \"MLA409431\", \"name\": \"Salud y Equipamiento Médico\" }, { \"id\": \"MLA1540\", \"name\": \"Servicios\" }, { \"id\": \"MLA1953\", \"name\": \"Otras categorías\"}"
   ]
  },
  {
   "cell_type": "markdown",
   "metadata": {},
   "source": [
    "https://api.mercadolibre.com/sites/MLA/categories\n",
    "https://api.mercadolibre.com/sites/MLA/search?q=fabrica&category=MLA1403"
   ]
  },
  {
   "cell_type": "code",
   "execution_count": 2,
   "metadata": {
    "scrolled": true
   },
   "outputs": [
    {
     "name": "stdout",
     "output_type": "stream",
     "text": [
      "ps4  category :  Accesorios para Vehículos\n",
      "df_final length is : 0\n",
      "ps4  category :  Alimentos y Bebidas\n",
      "df_final length is : 0\n",
      "ps4  category :  Animales y Mascotas\n",
      "df_final length is : 0\n",
      "ps4  category :  Antigüedades\n",
      "df_final length is : 0\n",
      "ps4  category :  Arte y Artesanías\n",
      "df_final length is : 0\n",
      "ps4  category :  Autos, Motos y Otros\n",
      "df_final length is : 0\n",
      "ps4  category :  Bebés\n",
      "df_final length is : 0\n",
      "ps4  category :  Belleza y Cuidado Personal\n",
      "df_final length is : 0\n",
      "ps4  category :  Cámaras y Accesorios\n",
      "df_final length is : 0\n",
      "ps4  category :  Celulares y Teléfonos\n",
      "df_final length is : 0\n",
      "ps4  category :  Coleccionables y Hobbies\n",
      "df_final length is : 1\n",
      "ps4  category :  Computación\n",
      "df_final length is : 43\n",
      "ps4  category :  Consolas y Videojuegos\n",
      "df_final length is : 119\n",
      "ps4  category :  Deportes y Fitness\n",
      "df_final length is : 119\n",
      "ps4  category :  Electrodomésticos y Aires Ac.\n",
      "df_final length is : 119\n",
      "ps4  category :  Electrónica, Audio y Video\n",
      "df_final length is : 119\n",
      "ps4  category :  Entradas para Eventos\n",
      "df_final length is : 119\n",
      "ps4  category :  Herramientas y Construcción\n",
      "df_final length is : 119\n",
      "ps4  category :  Hogar, Muebles y Jardín\n",
      "df_final length is : 129\n",
      "ps4  category :  Industrias y Oficinas\n",
      "df_final length is : 139\n",
      "ps4  category :  Inmuebles\n",
      "df_final length is : 139\n",
      "ps4  category :  Instrumentos Musicales\n",
      "df_final length is : 139\n",
      "ps4  category :  Joyas y Relojes\n",
      "df_final length is : 139\n",
      "ps4  category :  Juegos y Juguetes\n",
      "df_final length is : 139\n",
      "ps4  category :  Libros, Revistas y Comics\n",
      "df_final length is : 139\n",
      "ps4  category :  Música, Películas y Series\n",
      "df_final length is : 139\n",
      "ps4  category :  Ropa y Accesorios\n",
      "df_final length is : 139\n",
      "ps4  category :  Salud y Equipamiento Médico\n",
      "df_final length is : 139\n",
      "ps4  category :  Servicios\n",
      "df_final length is : 139\n",
      "ps4  category :  Otras categorías\n",
      "df_final length is : 139\n",
      "ps4  category :  Accesorios para Vehículos\n",
      "df_final length is : 139\n",
      "ps4  category :  Alimentos y Bebidas\n",
      "df_final length is : 139\n",
      "ps4  category :  Animales y Mascotas\n",
      "df_final length is : 139\n",
      "ps4  category :  Antigüedades\n",
      "df_final length is : 139\n",
      "ps4  category :  Arte y Artesanías\n",
      "df_final length is : 139\n",
      "ps4  category :  Autos, Motos y Otros\n",
      "df_final length is : 139\n",
      "ps4  category :  Bebés\n",
      "df_final length is : 139\n",
      "ps4  category :  Belleza y Cuidado Personal\n",
      "df_final length is : 139\n",
      "ps4  category :  Cámaras y Accesorios\n",
      "df_final length is : 139\n",
      "ps4  category :  Celulares y Teléfonos\n",
      "df_final length is : 139\n",
      "ps4  category :  Coleccionables y Hobbies\n",
      "df_final length is : 140\n",
      "ps4  category :  Computación\n",
      "df_final length is : 182\n",
      "ps4  category :  Consolas y Videojuegos\n",
      "df_final length is : 258\n",
      "ps4  category :  Deportes y Fitness\n",
      "df_final length is : 258\n",
      "ps4  category :  Electrodomésticos y Aires Ac.\n",
      "df_final length is : 258\n",
      "ps4  category :  Electrónica, Audio y Video\n",
      "df_final length is : 258\n",
      "ps4  category :  Entradas para Eventos\n",
      "df_final length is : 258\n",
      "ps4  category :  Herramientas y Construcción\n",
      "df_final length is : 258\n",
      "ps4  category :  Hogar, Muebles y Jardín\n",
      "df_final length is : 268\n",
      "ps4  category :  Industrias y Oficinas\n",
      "df_final length is : 278\n",
      "ps4  category :  Inmuebles\n",
      "df_final length is : 278\n",
      "ps4  category :  Instrumentos Musicales\n",
      "df_final length is : 278\n",
      "ps4  category :  Joyas y Relojes\n",
      "df_final length is : 278\n",
      "ps4  category :  Juegos y Juguetes\n",
      "df_final length is : 278\n",
      "ps4  category :  Libros, Revistas y Comics\n",
      "df_final length is : 278\n",
      "ps4  category :  Música, Películas y Series\n",
      "df_final length is : 278\n",
      "ps4  category :  Ropa y Accesorios\n",
      "df_final length is : 278\n",
      "ps4  category :  Salud y Equipamiento Médico\n",
      "df_final length is : 278\n",
      "ps4  category :  Servicios\n",
      "df_final length is : 278\n",
      "ps4  category :  Otras categorías\n",
      "df_final length is : 278\n"
     ]
    }
   ],
   "source": [
    "\n",
    "###############PARAMETERS#######################################################\n",
    "file = open(\"palabras_3_letras.txt\", \"r\")\n",
    "\n",
    "# PRODUCT FROM FILE OR LIST VARIABLE\n",
    "lines = file.readlines()\n",
    "lines = ('ps4')\n",
    "\n",
    "min_price_list = (1,2000,10000)#,3000,8000,16000)\n",
    "max_price_list = (2000,10000,20000)#,3000,8000,16000,240000)\n",
    "other_locations = \"Expeleta\" #FILTER LIST\n",
    "percentage_max_sell = \"0.05\" #FILTER % BELOW MAX SOLD\n",
    "sell_condition = \"new\" #\"old\" # USED o NEW\n",
    "min_sell = 1 # MINIMUM SELL FOR LOCATION\n",
    "#############END PARAMETERS#####################################################\n",
    "\n",
    "\n",
    "for product in lines:\n",
    "    product = random.choice(lines)\n",
    "    for category in categories:\n",
    "        print(product,\" category : \",category['name']) # PRODUCT NAME SEARCHED\n",
    "        df_temp = display_product(product,min_price_list,max_price_list,sell_condition,percentage_max_sell,category['id'],500000)\n",
    "        if (len(df_temp)>0):\n",
    "            df_final = df_final.append(df_temp)\n",
    "        if ( len(df_final) == 0):\n",
    "            df_final = df_temp\n",
    "        print (\"df_final length is :\",len(df_final))\n",
    "        df_final.to_csv('df_final.csv')\n",
    "    if (len(df_final)> 2000):\n",
    "        break\n",
    "   \n"
   ]
  },
  {
   "cell_type": "code",
   "execution_count": 4,
   "metadata": {},
   "outputs": [],
   "source": [
    "df_final = df_final.drop_duplicates('permalink')"
   ]
  },
  {
   "cell_type": "code",
   "execution_count": null,
   "metadata": {
    "scrolled": true
   },
   "outputs": [],
   "source": [
    "df_final = df_final.sort_values('total',ascending=False)\n",
    "df_final.iloc[:10,:]"
   ]
  },
  {
   "cell_type": "code",
   "execution_count": 6,
   "metadata": {},
   "outputs": [
    {
     "data": {
      "text/plain": [
       "129"
      ]
     },
     "execution_count": 6,
     "metadata": {},
     "output_type": "execute_result"
    }
   ],
   "source": [
    "len(df_final)"
   ]
  },
  {
   "cell_type": "code",
   "execution_count": 7,
   "metadata": {},
   "outputs": [
    {
     "name": "stderr",
     "output_type": "stream",
     "text": [
      "/home/jovyan/ml.py:45: UserWarning: No parser was explicitly specified, so I'm using the best available HTML parser for this system (\"lxml\"). This usually isn't a problem, but if you run this code on another system, or in a different virtual environment, it may use a different parser and behave differently.\n",
      "\n",
      "The code that caused this warning is on line 45 of the file /home/jovyan/ml.py. To get rid of this warning, pass the additional argument 'features=\"lxml\"' to the BeautifulSoup constructor.\n",
      "\n",
      "  soup = BeautifulSoup(r.text)\n"
     ]
    }
   ],
   "source": [
    "df_final['sold_quantity'] = df_final.apply(lambda row: retrieve_sold_from_link(row['permalink']) , axis=1)"
   ]
  },
  {
   "cell_type": "code",
   "execution_count": null,
   "metadata": {},
   "outputs": [],
   "source": []
  },
  {
   "cell_type": "code",
   "execution_count": 8,
   "metadata": {},
   "outputs": [],
   "source": [
    "df_final['total'] = df_final['price'] * df_final['sold_quantity']"
   ]
  },
  {
   "cell_type": "code",
   "execution_count": 11,
   "metadata": {},
   "outputs": [],
   "source": [
    "df_temp = df_final\n"
   ]
  },
  {
   "cell_type": "code",
   "execution_count": 12,
   "metadata": {},
   "outputs": [],
   "source": [
    "df_temp = df_final[df_final['price'] > 12000]"
   ]
  },
  {
   "cell_type": "code",
   "execution_count": null,
   "metadata": {},
   "outputs": [],
   "source": [
    "display(HTML(df_temp.loc[:, ['title', 'price','sold_quantity','total','state','city','thumbnail','permalink','seller_id','free_shipping']].sort_values('total',ascending=False).to_html(border=1, escape=False ,formatters=dict(thumbnail=path_to_image_html,permalink=path_to_link_html))))\n",
    " "
   ]
  }
 ],
 "metadata": {
  "kernelspec": {
   "display_name": "Python 3",
   "language": "python",
   "name": "python3"
  },
  "language_info": {
   "codemirror_mode": {
    "name": "ipython",
    "version": 3
   },
   "file_extension": ".py",
   "mimetype": "text/x-python",
   "name": "python",
   "nbconvert_exporter": "python",
   "pygments_lexer": "ipython3",
   "version": "3.6.6"
  }
 },
 "nbformat": 4,
 "nbformat_minor": 2
}
